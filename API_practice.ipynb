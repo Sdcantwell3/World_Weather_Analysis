{
 "cells": [
  {
   "cell_type": "code",
   "execution_count": null,
   "id": "772c08de",
   "metadata": {},
   "outputs": [],
   "source": [
    "# Import all of modules we will need\n",
    "\n",
    "import pandas as pd\n",
    "\n",
    "import matplotlib.pyplot as plt\n",
    "\n",
    "import numpy as np"
   ]
  },
  {
   "cell_type": "code",
   "execution_count": null,
   "id": "031fb819",
   "metadata": {},
   "outputs": [],
   "source": [
    "#Create a practice set of random latitude and logitude combinations\n",
    "\n",
    "lats = [25.12903645, 25.92017388, 26.62509167, -59.98969384, 37.30571269]\n",
    "\n",
    "lngs = [-67.59741259, 11.09532135, 74.84233102, -76.89176677, -61.13376282]\n",
    "\n",
    "lat_lngs = zip(lats, lngs)"
   ]
  },
  {
   "cell_type": "code",
   "execution_count": null,
   "id": "64855ff9",
   "metadata": {},
   "outputs": [],
   "source": [
    "# Add the latitudes and longitudes to a list.\n",
    "coordinates = list(lat_lngs)"
   ]
  },
  {
   "cell_type": "code",
   "execution_count": null,
   "id": "9e97051e",
   "metadata": {},
   "outputs": [],
   "source": [
    "# Use the print() function to display the latitude and longitude combinations.\n",
    "for coordinate in coordinates:\n",
    "    print(coordinate[0], coordinate[1])"
   ]
  },
  {
   "cell_type": "code",
   "execution_count": null,
   "id": "a4822c2d",
   "metadata": {},
   "outputs": [],
   "source": [
    "# Use the citipy module to determine city based on latitude and longitude. Citipy has to be imported to local workbook\n",
    "\n",
    "from citipy import citipy"
   ]
  },
  {
   "cell_type": "code",
   "execution_count": null,
   "id": "d9404075",
   "metadata": {},
   "outputs": [],
   "source": [
    "#In a new cell, create a for loop that will do the following:\n",
    "\n",
    "#Iterate through the coordinates' unzipped tuple.\n",
    "#Use citipy.nearest_city() and inside the parentheses of nearest_city(), \n",
    "#add the latitude and longitude in this format: coordinate[0], coordinate[1].\n",
    "#To print the city name, chain the city_name to the nearest_city() function.\n",
    "#To print the country name, chain the country_code to the nearest_city() function."
   ]
  },
  {
   "cell_type": "code",
   "execution_count": null,
   "id": "de3daaa8",
   "metadata": {},
   "outputs": [],
   "source": [
    "#Use the print() function to display the latitude and logitude combinations.\n",
    "\n",
    "for coordinate in coordinates:\n",
    "    \n",
    "    print(citipy.nearest_city(coordinate[0], coordinate[1]).city_name,\n",
    "                             \n",
    "            citipy.nearest_city(coordinate[0], coordinate[1]).country_code)"
   ]
  },
  {
   "cell_type": "code",
   "execution_count": null,
   "id": "ce88852e",
   "metadata": {},
   "outputs": [],
   "source": [
    "# Import the requests library.\n",
    "import requests\n",
    "\n",
    "# Import the API key.\n",
    "\n",
    "from config import weather_api_key"
   ]
  },
  {
   "cell_type": "code",
   "execution_count": null,
   "id": "73365b1f",
   "metadata": {
    "scrolled": true
   },
   "outputs": [],
   "source": [
    "# starting URL for Weather Map API Call.  Prior to this we registered and API key and navigated to the \"How to make an\n",
    "#API call documents\"\n",
    "\n",
    "url = \"http://api.openweathermap.org/data/2.5/weather?units=Imperial&APPID=\" + weather_api_key\n"
   ]
  },
  {
   "cell_type": "code",
   "execution_count": null,
   "id": "b8ef2039",
   "metadata": {},
   "outputs": [],
   "source": [
    "#Create an endpoint URL for a city.\n",
    "\n",
    "city_url = url + \"&q=\" + \"Boston\"\n",
    "    "
   ]
  },
  {
   "cell_type": "code",
   "execution_count": null,
   "id": "1e303bf6",
   "metadata": {},
   "outputs": [],
   "source": [
    "#We will use the \"get\" function to pull information for Boston using the url we created (city_url)"
   ]
  },
  {
   "cell_type": "code",
   "execution_count": null,
   "id": "d84b492e",
   "metadata": {},
   "outputs": [],
   "source": [
    "# Make a \"Get\" request for the city weather.\n",
    "\n",
    "city_weather = requests.get(city_url)\n",
    "\n",
    "city_weather"
   ]
  },
  {
   "cell_type": "code",
   "execution_count": null,
   "id": "ee90c58d",
   "metadata": {},
   "outputs": [],
   "source": [
    "# The \"Response [200]\" indicates a valid response to our request. This means the website will appear.  IF we get a [404]\n",
    "# response it means a website would not appear indicating a client error."
   ]
  },
  {
   "cell_type": "code",
   "execution_count": null,
   "id": "2384556a",
   "metadata": {},
   "outputs": [],
   "source": [
    "city_weather.status_code"
   ]
  },
  {
   "cell_type": "code",
   "execution_count": 39,
   "id": "7685bad3",
   "metadata": {},
   "outputs": [
    {
     "data": {
      "text/plain": [
       "<Response [200]>"
      ]
     },
     "execution_count": 39,
     "metadata": {},
     "output_type": "execute_result"
    }
   ],
   "source": [
    "#Creating an endpoint URL for a city with a spelling error in the city.\n",
    "\n",
    "city_url = url + \"&q=\" + \"Boston\"\n",
    "\n",
    "city_weather = requests.get(city_url)\n",
    "\n",
    "city_weather"
   ]
  },
  {
   "cell_type": "code",
   "execution_count": null,
   "id": "230245b7",
   "metadata": {},
   "outputs": [],
   "source": [
    "#Get the \"text\" of the \"Get\" request.\n",
    "\n",
    "city_weather.text"
   ]
  },
  {
   "cell_type": "code",
   "execution_count": null,
   "id": "d50946ff",
   "metadata": {},
   "outputs": [],
   "source": [
    "# Get the JSON text fo the 'Get' request.\n",
    "\n",
    "city_weather.json()"
   ]
  },
  {
   "cell_type": "code",
   "execution_count": null,
   "id": "aadf35a8",
   "metadata": {},
   "outputs": [],
   "source": [
    "# We can us if/else statement to determine if a 'get' is valid.  We can produce a statment for each outcome."
   ]
  },
  {
   "cell_type": "code",
   "execution_count": null,
   "id": "f123580f",
   "metadata": {},
   "outputs": [],
   "source": [
    "#Create an endpoint URL for a city. Add a statement to check and print statement\n",
    "\n",
    "city_url = url + \"&q=\" + \"Boston\"\n",
    "\n",
    "city_weather = requests.get(city_url)\n",
    "\n",
    "if city_weather.status_code == 200:\n",
    "    \n",
    "    print(f\"City Weather found.\")\n",
    "\n",
    "else: \n",
    "    \n",
    "    print(f\"City Weather not found.\")\n"
   ]
  },
  {
   "cell_type": "code",
   "execution_count": null,
   "id": "83459785",
   "metadata": {},
   "outputs": [],
   "source": [
    "#If the status_code is something other than 200, JSON data will always be returned in the request.\n",
    "#We can determine if the response was successful by checking the status_code, clicking the URL,\n",
    "#or retrieving specific information from the JSON data."
   ]
  },
  {
   "cell_type": "code",
   "execution_count": 40,
   "id": "90c4faee",
   "metadata": {},
   "outputs": [
    {
     "name": "stdout",
     "output_type": "stream",
     "text": [
      "City Weather found.\n"
     ]
    }
   ],
   "source": [
    "# Create an endpoint URL for a city. With mispelling of \"Boston\".\n",
    "\n",
    "city_url = url + \"&q=\" + \"Boston\"\n",
    "\n",
    "city_weather = requests.get(city_url)\n",
    "\n",
    "if city_weather.status_code == 200:\n",
    "    \n",
    "    print(f\"City Weather found.\")\n",
    "    \n",
    "else:\n",
    "    \n",
    "    print(f\"City weather not found.\")\n",
    "    "
   ]
  },
  {
   "cell_type": "code",
   "execution_count": 41,
   "id": "76695916",
   "metadata": {},
   "outputs": [
    {
     "data": {
      "text/plain": [
       "{'coord': {'lon': -71.0598, 'lat': 42.3584},\n",
       " 'weather': [{'id': 803,\n",
       "   'main': 'Clouds',\n",
       "   'description': 'broken clouds',\n",
       "   'icon': '04d'}],\n",
       " 'base': 'stations',\n",
       " 'main': {'temp': 75.47,\n",
       "  'feels_like': 75.11,\n",
       "  'temp_min': 69.22,\n",
       "  'temp_max': 78.91,\n",
       "  'pressure': 1017,\n",
       "  'humidity': 51},\n",
       " 'visibility': 10000,\n",
       " 'wind': {'speed': 1.74, 'deg': 307, 'gust': 9.66},\n",
       " 'clouds': {'all': 58},\n",
       " 'dt': 1656979714,\n",
       " 'sys': {'type': 2,\n",
       "  'id': 2001997,\n",
       "  'country': 'US',\n",
       "  'sunrise': 1656925963,\n",
       "  'sunset': 1656980654},\n",
       " 'timezone': -14400,\n",
       " 'id': 4930956,\n",
       " 'name': 'Boston',\n",
       " 'cod': 200}"
      ]
     },
     "execution_count": 41,
     "metadata": {},
     "output_type": "execute_result"
    }
   ],
   "source": [
    "#Create an endpoint URL for a city.\n",
    "\n",
    "city_url = url + \"&q=\" + \"Boston\"\n",
    "\n",
    "city_weather = requests.get(city_url)\n",
    "\n",
    "city_weather.json()"
   ]
  },
  {
   "cell_type": "code",
   "execution_count": 42,
   "id": "709bb231",
   "metadata": {},
   "outputs": [],
   "source": [
    "# Assigning a variable to the city_weather.json() data "
   ]
  },
  {
   "cell_type": "code",
   "execution_count": 44,
   "id": "c4725809",
   "metadata": {},
   "outputs": [],
   "source": [
    "# Get the JSON data.\n",
    "\n",
    "boston_data = city_weather.json()"
   ]
  },
  {
   "cell_type": "code",
   "execution_count": 45,
   "id": "07685912",
   "metadata": {},
   "outputs": [],
   "source": [
    "# To get specific data we locate the dictionary that holds the information and the dictionary key to our new variable "
   ]
  },
  {
   "cell_type": "code",
   "execution_count": 46,
   "id": "beab0cc3",
   "metadata": {},
   "outputs": [
    {
     "data": {
      "text/plain": [
       "{'type': 2,\n",
       " 'id': 2001997,\n",
       " 'country': 'US',\n",
       " 'sunrise': 1656925963,\n",
       " 'sunset': 1656980654}"
      ]
     },
     "execution_count": 46,
     "metadata": {},
     "output_type": "execute_result"
    }
   ],
   "source": [
    "# boston_data is the variable \"sys\" is the dictionary key.\n",
    "\n",
    "boston_data['sys']"
   ]
  },
  {
   "cell_type": "code",
   "execution_count": 47,
   "id": "f017d06e",
   "metadata": {},
   "outputs": [
    {
     "data": {
      "text/plain": [
       "'US'"
      ]
     },
     "execution_count": 47,
     "metadata": {},
     "output_type": "execute_result"
    }
   ],
   "source": [
    "# we can add another key to drill down into specific values\n",
    "\n",
    "boston_data[\"sys\"][\"country\"]"
   ]
  },
  {
   "cell_type": "code",
   "execution_count": 48,
   "id": "4885c284",
   "metadata": {},
   "outputs": [
    {
     "data": {
      "text/plain": [
       "1656979714"
      ]
     },
     "execution_count": 48,
     "metadata": {},
     "output_type": "execute_result"
    }
   ],
   "source": [
    "# Retreiving just the date.\n",
    "\n",
    "boston_data[\"dt\"]"
   ]
  },
  {
   "cell_type": "code",
   "execution_count": 49,
   "id": "356d542d",
   "metadata": {},
   "outputs": [
    {
     "name": "stdout",
     "output_type": "stream",
     "text": [
      "42.3584 -71.0598 78.91 51 58 1.74\n"
     ]
    }
   ],
   "source": [
    "# Creating variable for each measurement we are hoping to use.\n",
    "\n",
    "lat = boston_data[\"coord\"][\"lat\"]\n",
    "\n",
    "lng = boston_data[\"coord\"][\"lon\"]\n",
    "\n",
    "max_temp = boston_data[\"main\"][\"temp_max\"]\n",
    "\n",
    "humidity = boston_data[\"main\"][\"humidity\"]\n",
    "\n",
    "clouds = boston_data[\"clouds\"][\"all\"]\n",
    "\n",
    "wind = boston_data[\"wind\"][\"speed\"]\n",
    "\n",
    "print(lat, lng, max_temp, humidity, clouds, wind)"
   ]
  },
  {
   "cell_type": "code",
   "execution_count": 50,
   "id": "a47ff272",
   "metadata": {},
   "outputs": [
    {
     "data": {
      "text/plain": [
       "datetime.datetime(2022, 7, 5, 0, 8, 34)"
      ]
     },
     "execution_count": 50,
     "metadata": {},
     "output_type": "execute_result"
    }
   ],
   "source": [
    "# To convert seconds to date time.\n",
    "\n",
    "# Import the datetime module from the datetime library.\n",
    "\n",
    "from datetime import datetime\n",
    "\n",
    "# Get the date from teh JSON file.\n",
    "\n",
    "date = boston_data[\"dt\"]\n",
    "\n",
    "# Convert the UTC date to a date format with year, month, day , hours, minutes, and seconds.\n",
    "\n",
    "datetime.utcfromtimestamp(date)"
   ]
  },
  {
   "cell_type": "code",
   "execution_count": 51,
   "id": "1d9d807f",
   "metadata": {},
   "outputs": [],
   "source": [
    "#We can further manipulate this date with Python \"strftime\" format method.\"('%y'-%m-%d %H:%M:%S')\" is our desired format"
   ]
  },
  {
   "cell_type": "code",
   "execution_count": 55,
   "id": "7ba78596",
   "metadata": {},
   "outputs": [
    {
     "data": {
      "text/plain": [
       "'2022-07-05 00:08:34'"
      ]
     },
     "execution_count": 55,
     "metadata": {},
     "output_type": "execute_result"
    }
   ],
   "source": [
    "datetime.utcfromtimestamp(date).strftime('%Y-%m-%d %H:%M:%S')"
   ]
  },
  {
   "cell_type": "code",
   "execution_count": null,
   "id": "8068f7d3",
   "metadata": {},
   "outputs": [],
   "source": []
  }
 ],
 "metadata": {
  "kernelspec": {
   "display_name": "PythonData",
   "language": "python",
   "name": "pythondata"
  },
  "language_info": {
   "codemirror_mode": {
    "name": "ipython",
    "version": 3
   },
   "file_extension": ".py",
   "mimetype": "text/x-python",
   "name": "python",
   "nbconvert_exporter": "python",
   "pygments_lexer": "ipython3",
   "version": "3.9.12"
  }
 },
 "nbformat": 4,
 "nbformat_minor": 5
}
